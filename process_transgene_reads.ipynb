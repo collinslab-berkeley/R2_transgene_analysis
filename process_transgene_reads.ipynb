{
 "cells": [
  {
   "cell_type": "code",
   "execution_count": null,
   "id": "e577012e-2707-4e4c-a54b-fb9355f059ae",
   "metadata": {},
   "outputs": [],
   "source": [
    "import numpy as np\n",
    "import pysam, os, pickle, sys\n",
    "from Bio.Seq import Seq\n",
    "from Bio import SeqIO\n",
    "from fuzzysearch import find_near_matches\n",
    "from dataclasses import dataclass\n",
    "from copy import deepcopy\n",
    "\n",
    "@dataclass\n",
    "class read_part:\n",
    "    cigar: str\n",
    "    read_start: int\n",
    "    read_end: int\n",
    "    chrom: str=''\n",
    "    strand: chr=''\n",
    "    ref_start: int = -1\n",
    "    ref_end: int = -1\n",
    "    mapq: int = -1\n",
    "    \n",
    "    def get_length(self):\n",
    "        return self.read_end-self.read_start\n",
    "    \n",
    "sys.path.append('../scripts')\n",
    "from process_reads import *"
   ]
  },
  {
   "cell_type": "code",
   "execution_count": null,
   "id": "77facb84-380d-4e87-bcf2-c8711289d3ba",
   "metadata": {},
   "outputs": [],
   "source": [
    "transgene_ref = 'references/220416_template+rDNAflanks.fa'\n",
    "flank_len = 840\n",
    "transgene_len = len(list(SeqIO.parse(transgene_ref, format='fasta'))[0].seq) - 2*flank_len\n",
    "tg_end = flank_len+transgene_len\n",
    "transgene_refname = list(SeqIO.parse(transgene_ref, format='fasta'))[0].name\n",
    "\n",
    "rDNA_repeat = list(SeqIO.parse('references/rDNA_fullrepeat.fa', format='fasta'))[0].seq\n",
    "rDNA_repeat = str(rDNA_repeat).upper()\n",
    "\n",
    "template_flanks = SeqIO.parse(transgene_ref, format='fasta')\n",
    "template_flanks = str(list(template_flanks)[0].seq).upper()"
   ]
  },
  {
   "cell_type": "code",
   "execution_count": null,
   "id": "a7cc3d7f-c631-4115-88a7-71ba761b3008",
   "metadata": {},
   "outputs": [],
   "source": [
    "# read sam file and convert to dataframe representation\n",
    "input_sam = 'KCXZ0001A_transgeneflanks_mappedmates.sam'\n",
    "transgenereads = pysam.AlignmentFile(input_sam, 'r')\n",
    "read_dict = populate_read_dict(transgenereads)"
   ]
  },
  {
   "cell_type": "code",
   "execution_count": 4,
   "id": "f6d07c66-b34b-4022-b04d-bd8f4731d348",
   "metadata": {
    "tags": []
   },
   "outputs": [
    {
     "name": "stderr",
     "output_type": "stream",
     "text": [
      "[M::bwa_idx_load_from_disk] read 0 ALT contigs\n",
      "[M::process] read 77056 sequences (10000190 bp)...\n",
      "[M::process] read 33146 sequences (4650619 bp)...\n",
      "[M::mem_process_seqs] Processed 77056 reads in 4.571 CPU sec, 4.565 real sec\n",
      "[M::mem_process_seqs] Processed 33146 reads in 0.715 CPU sec, 0.695 real sec\n",
      "[main] Version: 0.7.17-r1188\n",
      "[main] CMD: bwa mem -B 6 ../../../templates/rDNA_fullrepeat.fa temp.fa\n",
      "[main] Real time: 5.286 sec; CPU: 5.314 sec\n",
      "[M::bwa_idx_load_from_disk] read 0 ALT contigs\n",
      "[M::process] read 73942 sequences (10000118 bp)...\n",
      "[M::process] read 1256 sequences (171983 bp)...\n",
      "[M::mem_process_seqs] Processed 73942 reads in 1.635 CPU sec, 1.635 real sec\n",
      "[M::mem_process_seqs] Processed 1256 reads in 0.051 CPU sec, 0.029 real sec\n",
      "[main] Version: 0.7.17-r1188\n",
      "[main] CMD: bwa mem -B 6 ../../templates/TCARZ_CBh_GFP_SV40PA_GeFo3+rDNAflanks.fa temp.fa\n",
      "[main] Real time: 1.679 sec; CPU: 1.702 sec\n",
      "[M::bwa_idx_load_from_disk] read 0 ALT contigs\n",
      "[M::process] read 73942 sequences (10000118 bp)...\n",
      "[M::process] read 1256 sequences (171983 bp)...\n",
      "[M::mem_process_seqs] Processed 73942 reads in 38.702 CPU sec, 38.718 real sec\n",
      "[M::mem_process_seqs] Processed 1256 reads in 0.823 CPU sec, 0.794 real sec\n",
      "[main] Version: 0.7.17-r1188\n",
      "[main] CMD: bwa mem -B 6 ../../../templates/chm13v2.0.fa.gz temp.fa\n",
      "[main] Real time: 40.546 sec; CPU: 40.422 sec\n",
      "[M::bwa_idx_load_from_disk] read 0 ALT contigs\n",
      "[M::process] read 49151 sequences (6746218 bp)...\n",
      "[M::mem_process_seqs] Processed 49151 reads in 1.301 CPU sec, 1.301 real sec\n",
      "[main] Version: 0.7.17-r1188\n",
      "[main] CMD: bwa mem -B 6 ../../templates/blacklist.fa temp.fa\n",
      "[main] Real time: 1.327 sec; CPU: 1.327 sec\n"
     ]
    }
   ],
   "source": [
    "read_dict = realign_reads(read_dict, 'references/rDNA_fullrepeat.fa')\n",
    "read_dict = realign_reads(read_dict, transgene_ref)\n",
    "read_dict = realign_reads(read_dict, 'references/chm13v2.0.fa.gz')\n",
    "\n",
    "# read_dict = discard_plasmid_reads(read_dict, '../../../templates/CBh_plasmid.fa')\n",
    "read_dict = discard_contaminating_reads(read_dict, 'references/blacklist.fa')"
   ]
  },
  {
   "cell_type": "code",
   "execution_count": 5,
   "id": "2693a978-17a4-40e9-ab0b-6e42363cc97d",
   "metadata": {
    "tags": []
   },
   "outputs": [
    {
     "name": "stderr",
     "output_type": "stream",
     "text": [
      "[M::bwa_idx_load_from_disk] read 0 ALT contigs\n",
      "[M::process] read 17112 sequences (670483 bp)...\n",
      "[M::mem_process_seqs] Processed 17112 reads in 0.103 CPU sec, 0.103 real sec\n",
      "[main] Version: 0.7.17-r1188\n",
      "[main] CMD: bwa mem -B 6 ../../../templates/rDNA_fullrepeat.fa temp.fa\n",
      "[main] Real time: 0.112 sec; CPU: 0.112 sec\n",
      "[M::bwa_idx_load_from_disk] read 0 ALT contigs\n",
      "[M::process] read 16789 sequences (651293 bp)...\n",
      "[M::mem_process_seqs] Processed 16789 reads in 0.400 CPU sec, 0.400 real sec\n",
      "[main] Version: 0.7.17-r1188\n",
      "[main] CMD: bwa mem -B 6 ../../../templates/chm13v2.0.fa.gz temp.fa\n",
      "[main] Real time: 1.330 sec; CPU: 1.277 sec\n",
      "[M::bwa_idx_load_from_disk] read 0 ALT contigs\n",
      "[M::process] read 16644 sequences (643604 bp)...\n",
      "[M::mem_process_seqs] Processed 16644 reads in 0.078 CPU sec, 0.078 real sec\n",
      "[main] Version: 0.7.17-r1188\n",
      "[main] CMD: bwa mem -B 6 ../../templates/TCARZ_CBh_GFP_SV40PA_GeFo3+rDNAflanks.fa temp.fa\n",
      "[main] Real time: 0.085 sec; CPU: 0.087 sec\n"
     ]
    }
   ],
   "source": [
    "read_dict = align_clips(read_dict,  'references/rDNA_fullrepeat.fa', transgene_refname)\n",
    "read_dict = align_clips(read_dict,  'references/chm13v2.0.fa.gz', transgene_refname)\n",
    "read_dict = align_clips(read_dict, transgene_ref, transgene_refname)"
   ]
  },
  {
   "cell_type": "code",
   "execution_count": 6,
   "id": "51456082-7be7-489d-ac9e-e11da367e1a7",
   "metadata": {
    "tags": []
   },
   "outputs": [
    {
     "name": "stdout",
     "output_type": "stream",
     "text": [
      "4783\n"
     ]
    }
   ],
   "source": [
    "read_dict = filter_transgenemapping(read_dict, flank_len, tg_end, transgene_refname)\n",
    "read_dict = realign_rDNA_reads(read_dict, transgene_refname, flank_len, tg_end, rDNA_repeat)\n",
    "read_dict = remap_sensitive(read_dict, template_flanks, rDNA_repeat, transgene_refname)\n",
    "read_dict = filter_transgenemapping(read_dict, flank_len, tg_end, transgene_refname)\n",
    "\n",
    "with open('KCXZ0001A_reads.pkl', 'wb') as f:\n",
    "    pickle.dump(read_dict, f, protocol=pickle.HIGHEST_PROTOCOL)\n",
    "\n",
    "print(len(read_dict))"
   ]
  }
 ],
 "metadata": {
  "kernelspec": {
   "display_name": "Python 3 (ipykernel)",
   "language": "python",
   "name": "python3"
  },
  "language_info": {
   "codemirror_mode": {
    "name": "ipython",
    "version": 3
   },
   "file_extension": ".py",
   "mimetype": "text/x-python",
   "name": "python",
   "nbconvert_exporter": "python",
   "pygments_lexer": "ipython3",
   "version": "3.9.18"
  }
 },
 "nbformat": 4,
 "nbformat_minor": 5
}
