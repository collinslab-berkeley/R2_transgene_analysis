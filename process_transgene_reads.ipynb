{
 "cells": [
  {
   "cell_type": "code",
   "execution_count": 1,
   "id": "e577012e-2707-4e4c-a54b-fb9355f059ae",
   "metadata": {},
   "outputs": [],
   "source": [
    "import numpy as np\n",
    "import pysam, os, pickle, sys\n",
    "from Bio.Seq import Seq\n",
    "from Bio import SeqIO\n",
    "from fuzzysearch import find_near_matches\n",
    "from dataclasses import dataclass\n",
    "from copy import deepcopy\n",
    "\n",
    "@dataclass\n",
    "class read_part:\n",
    "    cigar: str\n",
    "    read_start: int\n",
    "    read_end: int\n",
    "    chrom: str=''\n",
    "    strand: chr=''\n",
    "    ref_start: int = -1\n",
    "    ref_end: int = -1\n",
    "    mapq: int = -1\n",
    "    \n",
    "    def get_length(self):\n",
    "        return self.read_end-self.read_start\n",
    "    \n",
    "sys.path.append('scripts')\n",
    "from process_reads import *"
   ]
  },
  {
   "cell_type": "code",
   "execution_count": 2,
   "id": "77facb84-380d-4e87-bcf2-c8711289d3ba",
   "metadata": {},
   "outputs": [],
   "source": [
    "transgene_ref = 'references/CBh_template+rDNAflanks.fa'\n",
    "flank_len = 840\n",
    "transgene_len = len(list(SeqIO.parse(transgene_ref, format='fasta'))[0].seq) - 2*flank_len\n",
    "tg_end = flank_len+transgene_len\n",
    "transgene_refname = list(SeqIO.parse(transgene_ref, format='fasta'))[0].name\n",
    "\n",
    "rDNA_repeat = list(SeqIO.parse('references/rDNA_fullrepeat.fa', format='fasta'))[0].seq\n",
    "rDNA_repeat = str(rDNA_repeat).upper()\n",
    "\n",
    "template_flanks = SeqIO.parse(transgene_ref, format='fasta')\n",
    "template_flanks = str(list(template_flanks)[0].seq).upper()"
   ]
  },
  {
   "cell_type": "code",
   "execution_count": 3,
   "id": "a7cc3d7f-c631-4115-88a7-71ba761b3008",
   "metadata": {},
   "outputs": [],
   "source": [
    "# read sam file and convert to dataframe representation\n",
    "input_sam = 'KCXZ0001D_transgeneflanks_mappedmates.sam'\n",
    "transgenereads = pysam.AlignmentFile(input_sam, 'r')\n",
    "read_dict = populate_read_dict(transgenereads)"
   ]
  },
  {
   "cell_type": "code",
   "execution_count": 4,
   "id": "f6d07c66-b34b-4022-b04d-bd8f4731d348",
   "metadata": {
    "tags": []
   },
   "outputs": [
    {
     "name": "stderr",
     "output_type": "stream",
     "text": [
      "[M::bwa_idx_load_from_disk] read 0 ALT contigs\n",
      "[M::process] read 79858 sequences (10000027 bp)...\n",
      "[M::process] read 74998 sequences (10000237 bp)...\n",
      "[M::mem_process_seqs] Processed 79858 reads in 5.667 CPU sec, 5.654 real sec\n",
      "[M::process] read 42638 sequences (5956691 bp)...\n",
      "[M::mem_process_seqs] Processed 74998 reads in 3.287 CPU sec, 3.257 real sec\n",
      "[M::mem_process_seqs] Processed 42638 reads in 0.864 CPU sec, 0.843 real sec\n",
      "[main] Version: 0.7.17-r1188\n",
      "[main] CMD: bwa mem -B 6 references/rDNA_fullrepeat.fa temp.fa\n",
      "[main] Real time: 9.785 sec; CPU: 9.848 sec\n",
      "[M::bwa_idx_load_from_disk] read 0 ALT contigs\n",
      "[M::process] read 77798 sequences (10000044 bp)...\n",
      "[M::process] read 65667 sequences (9194667 bp)...\n",
      "[M::mem_process_seqs] Processed 77798 reads in 1.568 CPU sec, 1.555 real sec\n",
      "[M::mem_process_seqs] Processed 65667 reads in 1.551 CPU sec, 1.534 real sec\n",
      "[main] Version: 0.7.17-r1188\n",
      "[main] CMD: bwa mem -B 6 references/CBh_template+rDNAflanks.fa temp.fa\n",
      "[main] Real time: 3.125 sec; CPU: 3.155 sec\n",
      "[M::bwa_idx_load_from_disk] read 0 ALT contigs\n",
      "[M::process] read 77798 sequences (10000044 bp)...\n",
      "[M::process] read 65667 sequences (9194667 bp)...\n",
      "[M::mem_process_seqs] Processed 77798 reads in 37.986 CPU sec, 38.256 real sec\n",
      "[M::mem_process_seqs] Processed 65667 reads in 36.044 CPU sec, 36.092 real sec\n",
      "[main] Version: 0.7.17-r1188\n",
      "[main] CMD: bwa mem -B 6 references/chm13v2.0.fa.gz temp.fa\n",
      "[main] Real time: 76.017 sec; CPU: 75.150 sec\n",
      "[M::bwa_idx_load_from_disk] read 0 ALT contigs\n",
      "[M::process] read 74510 sequences (10000134 bp)...\n",
      "[M::process] read 23294 sequences (3340688 bp)...\n",
      "[M::mem_process_seqs] Processed 74510 reads in 1.960 CPU sec, 1.956 real sec\n",
      "[M::mem_process_seqs] Processed 23294 reads in 0.687 CPU sec, 0.669 real sec\n",
      "[main] Version: 0.7.17-r1188\n",
      "[main] CMD: bwa mem -B 6 references/blacklist.fa temp.fa\n",
      "[main] Real time: 2.648 sec; CPU: 2.671 sec\n"
     ]
    }
   ],
   "source": [
    "read_dict = realign_reads(read_dict, 'references/rDNA_fullrepeat.fa')\n",
    "read_dict = realign_reads(read_dict, transgene_ref)\n",
    "read_dict = realign_reads(read_dict, 'references/chm13v2.0.fa.gz')\n",
    "\n",
    "# read_dict = discard_plasmid_reads(read_dict, '../../../templates/CBh_plasmid.fa')\n",
    "read_dict = discard_contaminating_reads(read_dict, 'references/blacklist.fa')"
   ]
  },
  {
   "cell_type": "code",
   "execution_count": 5,
   "id": "2693a978-17a4-40e9-ab0b-6e42363cc97d",
   "metadata": {
    "tags": []
   },
   "outputs": [
    {
     "name": "stderr",
     "output_type": "stream",
     "text": [
      "[M::bwa_idx_load_from_disk] read 0 ALT contigs\n",
      "[M::process] read 34067 sequences (1331281 bp)...\n",
      "[M::mem_process_seqs] Processed 34067 reads in 0.200 CPU sec, 0.200 real sec\n",
      "[main] Version: 0.7.17-r1188\n",
      "[main] CMD: bwa mem -B 6 references/rDNA_fullrepeat.fa temp.fa\n",
      "[main] Real time: 0.212 sec; CPU: 0.213 sec\n",
      "[M::bwa_idx_load_from_disk] read 0 ALT contigs\n",
      "[M::process] read 33689 sequences (1309623 bp)...\n",
      "[M::mem_process_seqs] Processed 33689 reads in 0.659 CPU sec, 0.661 real sec\n",
      "[main] Version: 0.7.17-r1188\n",
      "[main] CMD: bwa mem -B 6 references/chm13v2.0.fa.gz temp.fa\n",
      "[main] Real time: 1.777 sec; CPU: 1.580 sec\n",
      "[M::bwa_idx_load_from_disk] read 0 ALT contigs\n",
      "[M::process] read 33509 sequences (1300512 bp)...\n",
      "[M::mem_process_seqs] Processed 33509 reads in 0.156 CPU sec, 0.156 real sec\n",
      "[main] Version: 0.7.17-r1188\n",
      "[main] CMD: bwa mem -B 6 references/CBh_template+rDNAflanks.fa temp.fa\n",
      "[main] Real time: 0.169 sec; CPU: 0.169 sec\n"
     ]
    }
   ],
   "source": [
    "read_dict = align_clips(read_dict,  'references/rDNA_fullrepeat.fa', transgene_refname)\n",
    "read_dict = align_clips(read_dict,  'references/chm13v2.0.fa.gz', transgene_refname)\n",
    "read_dict = align_clips(read_dict, transgene_ref, transgene_refname)"
   ]
  },
  {
   "cell_type": "code",
   "execution_count": 6,
   "id": "51456082-7be7-489d-ac9e-e11da367e1a7",
   "metadata": {
    "tags": []
   },
   "outputs": [
    {
     "name": "stdout",
     "output_type": "stream",
     "text": [
      "4883\n"
     ]
    }
   ],
   "source": [
    "read_dict = filter_transgenemapping(read_dict, flank_len, tg_end, transgene_refname)\n",
    "read_dict = realign_rDNA_reads(read_dict, transgene_refname, flank_len, tg_end, rDNA_repeat)\n",
    "read_dict = remap_sensitive(read_dict, template_flanks, rDNA_repeat, transgene_refname)\n",
    "read_dict = filter_transgenemapping(read_dict, flank_len, tg_end, transgene_refname)\n",
    "\n",
    "with open('KCXZ0001D_reads.pkl', 'wb') as f:\n",
    "    pickle.dump(read_dict, f, protocol=pickle.HIGHEST_PROTOCOL)\n",
    "\n",
    "print(len(read_dict))"
   ]
  },
  {
   "cell_type": "code",
   "execution_count": null,
   "id": "98b373e7-b1e8-4623-aa35-e87e1ada92f7",
   "metadata": {},
   "outputs": [],
   "source": []
  }
 ],
 "metadata": {
  "kernelspec": {
   "display_name": "Python 3 (ipykernel)",
   "language": "python",
   "name": "python3"
  },
  "language_info": {
   "codemirror_mode": {
    "name": "ipython",
    "version": 3
   },
   "file_extension": ".py",
   "mimetype": "text/x-python",
   "name": "python",
   "nbconvert_exporter": "python",
   "pygments_lexer": "ipython3",
   "version": "3.9.18"
  }
 },
 "nbformat": 4,
 "nbformat_minor": 5
}
